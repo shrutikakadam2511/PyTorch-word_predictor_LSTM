{
  "nbformat": 4,
  "nbformat_minor": 0,
  "metadata": {
    "colab": {
      "provenance": []
    },
    "kernelspec": {
      "name": "python3",
      "display_name": "Python 3"
    },
    "language_info": {
      "name": "python"
    }
  },
  "cells": [
    {
      "cell_type": "code",
      "execution_count": 1,
      "metadata": {
        "id": "i_Sdy6TqJkzU"
      },
      "outputs": [],
      "source": [
        "#!pip install nltk"
      ]
    },
    {
      "cell_type": "code",
      "source": [
        "import torch\n",
        "import torch.nn as nn\n",
        "import torch.optim as optim\n",
        "import numpy as np\n",
        "from collections import Counter\n",
        "from torch.utils.data import Dataset, DataLoader\n",
        "from nltk.tokenize import word_tokenize\n",
        "import nltk\n"
      ],
      "metadata": {
        "id": "ahRzxcfoJycB"
      },
      "execution_count": 2,
      "outputs": []
    },
    {
      "cell_type": "code",
      "source": [
        "document = \"\"\"About the Program\n",
        "What is the course fee for  Data Science Mentorship Program (DSMP 2023)\n",
        "The course follows a monthly subscription model where you have to make monthly payments of Rs 799/month.\n",
        "What is the total duration of the course?\n",
        "The total duration of the course is 7 months. So the total course fee becomes 799*7 = Rs 5600(approx.)\n",
        "What is the syllabus of the mentorship program?\n",
        "We will be covering the following modules:\n",
        "Python Fundamentals\n",
        "Python libraries for Data Science\n",
        "Data Analysis\n",
        "SQL for Data Science\n",
        "Maths for Machine Learning\n",
        "ML Algorithms\n",
        "Practical ML\n",
        "MLOPs\n",
        "Case studies\n",
        "You can check the detailed syllabus here - https://learnwith.campusx.in/courses/CampusX-Data-Science-Mentorship-Program-637339afe4b0615a1bbed390\n",
        "Will Deep Learning and NLP be a part of this program?\n",
        "No, NLP and Deep Learning both are not a part of this program’s curriculum.\n",
        "What if I miss a live session? Will I get a recording of the session?\n",
        "Yes all our sessions are recorded, so even if you miss a session you can go back and watch the recording.\n",
        "Where can I find the class schedule?\n",
        "Checkout this google sheet to see month by month time table of the course - https://docs.google.com/spreadsheets/d/16OoTax_A6ORAeCg4emgexhqqPv3noQPYKU7RJ6ArOzk/edit?usp=sharing.\n",
        "What is the time duration of all the live sessions?\n",
        "Roughly, all the sessions last 2 hours.\n",
        "What is the language spoken by the instructor during the sessions?\n",
        "Hinglish\n",
        "How will I be informed about the upcoming class?\n",
        "You will get a mail from our side before every paid session once you become a paid user.\n",
        "Can I do this course if I am from a non-tech background?\n",
        "Yes, absolutely.\n",
        "I am late, can I join the program in the middle?\n",
        "Absolutely, you can join the program anytime.\n",
        "If I join/pay in the middle, will I be able to see all the past lectures?\n",
        "Yes, once you make the payment you will be able to see all the past content in your dashboard.\n",
        "Where do I have to submit the task?\n",
        "You don’t have to submit the task. We will provide you with the solutions, you have to self evaluate the task yourself.\n",
        "Will we do case studies in the program?\n",
        "Yes.\n",
        "Where can we contact you?\n",
        "You can mail us at nitish.campusx@gmail.com\n",
        "Payment/Registration related questions\n",
        "Where do we have to make our payments? Your YouTube channel or website?\n",
        "You have to make all your monthly payments on our website. Here is the link for our website - https://learnwith.campusx.in/\n",
        "Can we pay the entire amount of Rs 5600 all at once?\n",
        "Unfortunately no, the program follows a monthly subscription model.\n",
        "What is the validity of monthly subscription? Suppose if I pay on 15th Jan, then do I have to pay again on 1st Feb or 15th Feb\n",
        "15th Feb. The validity period is 30 days from the day you make the payment. So essentially you can join anytime you don’t have to wait for a month to end.\n",
        "What if I don’t like the course after making the payment. What is the refund policy?\n",
        "You get a 7 days refund period from the day you have made the payment.\n",
        "I am living outside India and I am not able to make the payment on the website, what should I do?\n",
        "You have to contact us by sending a mail at nitish.campusx@gmail.com\n",
        "Post registration queries\n",
        "Till when can I view the paid videos on the website?\n",
        "This one is tricky, so read carefully. You can watch the videos till your subscription is valid. Suppose you have purchased subscription on 21st Jan, you will be able to watch all the past paid sessions in the period of 21st Jan to 20th Feb. But after 21st Feb you will have to purchase the subscription again.\n",
        "But once the course is over and you have paid us Rs 5600(or 7 installments of Rs 799) you will be able to watch the paid sessions till Aug 2024.\n",
        "Why lifetime validity is not provided?\n",
        "Because of the low course fee.\n",
        "Where can I reach out in case of a doubt after the session?\n",
        "You will have to fill a google form provided in your dashboard and our team will contact you for a 1 on 1 doubt clearance session\n",
        "If I join the program late, can I still ask past week doubts?\n",
        "Yes, just select past week doubt in the doubt clearance google form.\n",
        "I am living outside India and I am not able to make the payment on the website, what should I do?\n",
        "You have to contact us by sending a mail at nitish.campusx@gmai.com\n",
        "Certificate and Placement Assistance related queries\n",
        "What is the criteria to get the certificate?\n",
        "There are 2 criterias:\n",
        "You have to pay the entire fee of Rs 5600\n",
        "You have to attempt all the course assessments.\n",
        "I am joining late. How can I pay payment of the earlier months?\n",
        "You will get a link to pay fee of earlier months in your dashboard once you pay for the current month.\n",
        "I have read that Placement assistance is a part of this program. What comes under Placement assistance?\n",
        "This is to clarify that Placement assistance does not mean Placement guarantee. So we dont guarantee you any jobs or for that matter even interview calls. So if you are planning to join this course just for placements, I am afraid you will be disappointed. Here is what comes under placement assistance\n",
        "Portfolio Building sessions\n",
        "Soft skill sessions\n",
        "Sessions with industry mentors\n",
        "Discussion on Job hunting strategies\n",
        "\"\"\"\n"
      ],
      "metadata": {
        "id": "AVXjsOXBKkeA"
      },
      "execution_count": 3,
      "outputs": []
    },
    {
      "cell_type": "code",
      "source": [
        "nltk.download('punkt')\n",
        "nltk.download('punkt_tab')"
      ],
      "metadata": {
        "colab": {
          "base_uri": "https://localhost:8080/"
        },
        "id": "qyMliTCjK1L3",
        "outputId": "8b8264c2-b6c0-42c9-f025-f9996c69833d"
      },
      "execution_count": 4,
      "outputs": [
        {
          "output_type": "stream",
          "name": "stderr",
          "text": [
            "[nltk_data] Downloading package punkt to /root/nltk_data...\n",
            "[nltk_data]   Unzipping tokenizers/punkt.zip.\n",
            "[nltk_data] Downloading package punkt_tab to /root/nltk_data...\n",
            "[nltk_data]   Unzipping tokenizers/punkt_tab.zip.\n"
          ]
        },
        {
          "output_type": "execute_result",
          "data": {
            "text/plain": [
              "True"
            ]
          },
          "metadata": {},
          "execution_count": 4
        }
      ]
    },
    {
      "cell_type": "code",
      "source": [
        "tokens= word_tokenize(document.lower())"
      ],
      "metadata": {
        "id": "dn8A_HGCLGk4"
      },
      "execution_count": 5,
      "outputs": []
    },
    {
      "cell_type": "code",
      "source": [
        "vocab= {'<unk>':0}\n",
        "\n",
        "for token in Counter(tokens).keys():\n",
        "  if token not in vocab:\n",
        "    vocab[token]=len(vocab)\n",
        "\n",
        "vocab\n",
        ""
      ],
      "metadata": {
        "colab": {
          "base_uri": "https://localhost:8080/"
        },
        "id": "Nt_5af30LWDF",
        "outputId": "c70dd4a8-b731-417d-d2be-fa1145af436a"
      },
      "execution_count": 6,
      "outputs": [
        {
          "output_type": "execute_result",
          "data": {
            "text/plain": [
              "{'<unk>': 0,\n",
              " 'about': 1,\n",
              " 'the': 2,\n",
              " 'program': 3,\n",
              " 'what': 4,\n",
              " 'is': 5,\n",
              " 'course': 6,\n",
              " 'fee': 7,\n",
              " 'for': 8,\n",
              " 'data': 9,\n",
              " 'science': 10,\n",
              " 'mentorship': 11,\n",
              " '(': 12,\n",
              " 'dsmp': 13,\n",
              " '2023': 14,\n",
              " ')': 15,\n",
              " 'follows': 16,\n",
              " 'a': 17,\n",
              " 'monthly': 18,\n",
              " 'subscription': 19,\n",
              " 'model': 20,\n",
              " 'where': 21,\n",
              " 'you': 22,\n",
              " 'have': 23,\n",
              " 'to': 24,\n",
              " 'make': 25,\n",
              " 'payments': 26,\n",
              " 'of': 27,\n",
              " 'rs': 28,\n",
              " '799/month': 29,\n",
              " '.': 30,\n",
              " 'total': 31,\n",
              " 'duration': 32,\n",
              " '?': 33,\n",
              " '7': 34,\n",
              " 'months': 35,\n",
              " 'so': 36,\n",
              " 'becomes': 37,\n",
              " '799': 38,\n",
              " '*': 39,\n",
              " '=': 40,\n",
              " '5600': 41,\n",
              " 'approx': 42,\n",
              " 'syllabus': 43,\n",
              " 'we': 44,\n",
              " 'will': 45,\n",
              " 'be': 46,\n",
              " 'covering': 47,\n",
              " 'following': 48,\n",
              " 'modules': 49,\n",
              " ':': 50,\n",
              " 'python': 51,\n",
              " 'fundamentals': 52,\n",
              " 'libraries': 53,\n",
              " 'analysis': 54,\n",
              " 'sql': 55,\n",
              " 'maths': 56,\n",
              " 'machine': 57,\n",
              " 'learning': 58,\n",
              " 'ml': 59,\n",
              " 'algorithms': 60,\n",
              " 'practical': 61,\n",
              " 'mlops': 62,\n",
              " 'case': 63,\n",
              " 'studies': 64,\n",
              " 'can': 65,\n",
              " 'check': 66,\n",
              " 'detailed': 67,\n",
              " 'here': 68,\n",
              " '-': 69,\n",
              " 'https': 70,\n",
              " '//learnwith.campusx.in/courses/campusx-data-science-mentorship-program-637339afe4b0615a1bbed390': 71,\n",
              " 'deep': 72,\n",
              " 'and': 73,\n",
              " 'nlp': 74,\n",
              " 'part': 75,\n",
              " 'this': 76,\n",
              " 'no': 77,\n",
              " ',': 78,\n",
              " 'both': 79,\n",
              " 'are': 80,\n",
              " 'not': 81,\n",
              " '’': 82,\n",
              " 's': 83,\n",
              " 'curriculum': 84,\n",
              " 'if': 85,\n",
              " 'i': 86,\n",
              " 'miss': 87,\n",
              " 'live': 88,\n",
              " 'session': 89,\n",
              " 'get': 90,\n",
              " 'recording': 91,\n",
              " 'yes': 92,\n",
              " 'all': 93,\n",
              " 'our': 94,\n",
              " 'sessions': 95,\n",
              " 'recorded': 96,\n",
              " 'even': 97,\n",
              " 'go': 98,\n",
              " 'back': 99,\n",
              " 'watch': 100,\n",
              " 'find': 101,\n",
              " 'class': 102,\n",
              " 'schedule': 103,\n",
              " 'checkout': 104,\n",
              " 'google': 105,\n",
              " 'sheet': 106,\n",
              " 'see': 107,\n",
              " 'month': 108,\n",
              " 'by': 109,\n",
              " 'time': 110,\n",
              " 'table': 111,\n",
              " '//docs.google.com/spreadsheets/d/16ootax_a6oraecg4emgexhqqpv3noqpyku7rj6arozk/edit': 112,\n",
              " 'usp=sharing': 113,\n",
              " 'roughly': 114,\n",
              " 'last': 115,\n",
              " '2': 116,\n",
              " 'hours': 117,\n",
              " 'language': 118,\n",
              " 'spoken': 119,\n",
              " 'instructor': 120,\n",
              " 'during': 121,\n",
              " 'hinglish': 122,\n",
              " 'how': 123,\n",
              " 'informed': 124,\n",
              " 'upcoming': 125,\n",
              " 'mail': 126,\n",
              " 'from': 127,\n",
              " 'side': 128,\n",
              " 'before': 129,\n",
              " 'every': 130,\n",
              " 'paid': 131,\n",
              " 'once': 132,\n",
              " 'become': 133,\n",
              " 'user': 134,\n",
              " 'do': 135,\n",
              " 'am': 136,\n",
              " 'non-tech': 137,\n",
              " 'background': 138,\n",
              " 'absolutely': 139,\n",
              " 'late': 140,\n",
              " 'join': 141,\n",
              " 'in': 142,\n",
              " 'middle': 143,\n",
              " 'anytime': 144,\n",
              " 'join/pay': 145,\n",
              " 'able': 146,\n",
              " 'past': 147,\n",
              " 'lectures': 148,\n",
              " 'payment': 149,\n",
              " 'content': 150,\n",
              " 'your': 151,\n",
              " 'dashboard': 152,\n",
              " 'submit': 153,\n",
              " 'task': 154,\n",
              " 'don': 155,\n",
              " 't': 156,\n",
              " 'provide': 157,\n",
              " 'with': 158,\n",
              " 'solutions': 159,\n",
              " 'self': 160,\n",
              " 'evaluate': 161,\n",
              " 'yourself': 162,\n",
              " 'contact': 163,\n",
              " 'us': 164,\n",
              " 'at': 165,\n",
              " 'nitish.campusx': 166,\n",
              " '@': 167,\n",
              " 'gmail.com': 168,\n",
              " 'payment/registration': 169,\n",
              " 'related': 170,\n",
              " 'questions': 171,\n",
              " 'youtube': 172,\n",
              " 'channel': 173,\n",
              " 'or': 174,\n",
              " 'website': 175,\n",
              " 'on': 176,\n",
              " 'link': 177,\n",
              " '//learnwith.campusx.in/': 178,\n",
              " 'pay': 179,\n",
              " 'entire': 180,\n",
              " 'amount': 181,\n",
              " 'unfortunately': 182,\n",
              " 'validity': 183,\n",
              " 'suppose': 184,\n",
              " '15th': 185,\n",
              " 'jan': 186,\n",
              " 'then': 187,\n",
              " 'again': 188,\n",
              " '1st': 189,\n",
              " 'feb': 190,\n",
              " 'feb.': 191,\n",
              " 'period': 192,\n",
              " '30': 193,\n",
              " 'days': 194,\n",
              " 'day': 195,\n",
              " 'essentially': 196,\n",
              " 'wait': 197,\n",
              " 'end': 198,\n",
              " 'like': 199,\n",
              " 'after': 200,\n",
              " 'making': 201,\n",
              " 'refund': 202,\n",
              " 'policy': 203,\n",
              " 'made': 204,\n",
              " 'living': 205,\n",
              " 'outside': 206,\n",
              " 'india': 207,\n",
              " 'should': 208,\n",
              " 'sending': 209,\n",
              " 'post': 210,\n",
              " 'registration': 211,\n",
              " 'queries': 212,\n",
              " 'till': 213,\n",
              " 'when': 214,\n",
              " 'view': 215,\n",
              " 'videos': 216,\n",
              " 'one': 217,\n",
              " 'tricky': 218,\n",
              " 'read': 219,\n",
              " 'carefully': 220,\n",
              " 'valid': 221,\n",
              " 'purchased': 222,\n",
              " '21st': 223,\n",
              " '20th': 224,\n",
              " 'but': 225,\n",
              " 'purchase': 226,\n",
              " 'over': 227,\n",
              " 'installments': 228,\n",
              " 'aug': 229,\n",
              " '2024.': 230,\n",
              " 'why': 231,\n",
              " 'lifetime': 232,\n",
              " 'provided': 233,\n",
              " 'because': 234,\n",
              " 'low': 235,\n",
              " 'reach': 236,\n",
              " 'out': 237,\n",
              " 'doubt': 238,\n",
              " 'fill': 239,\n",
              " 'form': 240,\n",
              " 'team': 241,\n",
              " '1': 242,\n",
              " 'clearance': 243,\n",
              " 'still': 244,\n",
              " 'ask': 245,\n",
              " 'week': 246,\n",
              " 'doubts': 247,\n",
              " 'just': 248,\n",
              " 'select': 249,\n",
              " 'gmai.com': 250,\n",
              " 'certificate': 251,\n",
              " 'placement': 252,\n",
              " 'assistance': 253,\n",
              " 'criteria': 254,\n",
              " 'there': 255,\n",
              " 'criterias': 256,\n",
              " 'attempt': 257,\n",
              " 'assessments': 258,\n",
              " 'joining': 259,\n",
              " 'earlier': 260,\n",
              " 'current': 261,\n",
              " 'that': 262,\n",
              " 'comes': 263,\n",
              " 'under': 264,\n",
              " 'clarify': 265,\n",
              " 'does': 266,\n",
              " 'mean': 267,\n",
              " 'guarantee': 268,\n",
              " 'dont': 269,\n",
              " 'any': 270,\n",
              " 'jobs': 271,\n",
              " 'matter': 272,\n",
              " 'interview': 273,\n",
              " 'calls': 274,\n",
              " 'planning': 275,\n",
              " 'placements': 276,\n",
              " 'afraid': 277,\n",
              " 'disappointed': 278,\n",
              " 'portfolio': 279,\n",
              " 'building': 280,\n",
              " 'soft': 281,\n",
              " 'skill': 282,\n",
              " 'industry': 283,\n",
              " 'mentors': 284,\n",
              " 'discussion': 285,\n",
              " 'job': 286,\n",
              " 'hunting': 287,\n",
              " 'strategies': 288}"
            ]
          },
          "metadata": {},
          "execution_count": 6
        }
      ]
    },
    {
      "cell_type": "code",
      "source": [
        "len(vocab)"
      ],
      "metadata": {
        "colab": {
          "base_uri": "https://localhost:8080/"
        },
        "id": "5SAY9mVcMq63",
        "outputId": "8ed602ac-6ab5-4f83-a83c-4a6b259fa31a"
      },
      "execution_count": 7,
      "outputs": [
        {
          "output_type": "execute_result",
          "data": {
            "text/plain": [
              "289"
            ]
          },
          "metadata": {},
          "execution_count": 7
        }
      ]
    },
    {
      "cell_type": "code",
      "source": [
        "input_sentences=document.split('\\n')\n"
      ],
      "metadata": {
        "id": "TNDwqZNaMtsG"
      },
      "execution_count": 8,
      "outputs": []
    },
    {
      "cell_type": "code",
      "source": [
        "input_sentences"
      ],
      "metadata": {
        "colab": {
          "base_uri": "https://localhost:8080/"
        },
        "collapsed": true,
        "id": "rOdgNOXWNfDf",
        "outputId": "74595fec-d99b-4b34-bea8-024c3d60df2b"
      },
      "execution_count": 9,
      "outputs": [
        {
          "output_type": "execute_result",
          "data": {
            "text/plain": [
              "['About the Program',\n",
              " 'What is the course fee for  Data Science Mentorship Program (DSMP 2023)',\n",
              " 'The course follows a monthly subscription model where you have to make monthly payments of Rs 799/month.',\n",
              " 'What is the total duration of the course?',\n",
              " 'The total duration of the course is 7 months. So the total course fee becomes 799*7 = Rs 5600(approx.)',\n",
              " 'What is the syllabus of the mentorship program?',\n",
              " 'We will be covering the following modules:',\n",
              " 'Python Fundamentals',\n",
              " 'Python libraries for Data Science',\n",
              " 'Data Analysis',\n",
              " 'SQL for Data Science',\n",
              " 'Maths for Machine Learning',\n",
              " 'ML Algorithms',\n",
              " 'Practical ML',\n",
              " 'MLOPs',\n",
              " 'Case studies',\n",
              " 'You can check the detailed syllabus here - https://learnwith.campusx.in/courses/CampusX-Data-Science-Mentorship-Program-637339afe4b0615a1bbed390',\n",
              " 'Will Deep Learning and NLP be a part of this program?',\n",
              " 'No, NLP and Deep Learning both are not a part of this program’s curriculum.',\n",
              " 'What if I miss a live session? Will I get a recording of the session?',\n",
              " 'Yes all our sessions are recorded, so even if you miss a session you can go back and watch the recording.',\n",
              " 'Where can I find the class schedule?',\n",
              " 'Checkout this google sheet to see month by month time table of the course - https://docs.google.com/spreadsheets/d/16OoTax_A6ORAeCg4emgexhqqPv3noQPYKU7RJ6ArOzk/edit?usp=sharing.',\n",
              " 'What is the time duration of all the live sessions?',\n",
              " 'Roughly, all the sessions last 2 hours.',\n",
              " 'What is the language spoken by the instructor during the sessions?',\n",
              " 'Hinglish',\n",
              " 'How will I be informed about the upcoming class?',\n",
              " 'You will get a mail from our side before every paid session once you become a paid user.',\n",
              " 'Can I do this course if I am from a non-tech background?',\n",
              " 'Yes, absolutely.',\n",
              " 'I am late, can I join the program in the middle?',\n",
              " 'Absolutely, you can join the program anytime.',\n",
              " 'If I join/pay in the middle, will I be able to see all the past lectures?',\n",
              " 'Yes, once you make the payment you will be able to see all the past content in your dashboard.',\n",
              " 'Where do I have to submit the task?',\n",
              " 'You don’t have to submit the task. We will provide you with the solutions, you have to self evaluate the task yourself.',\n",
              " 'Will we do case studies in the program?',\n",
              " 'Yes.',\n",
              " 'Where can we contact you?',\n",
              " 'You can mail us at nitish.campusx@gmail.com',\n",
              " 'Payment/Registration related questions',\n",
              " 'Where do we have to make our payments? Your YouTube channel or website?',\n",
              " 'You have to make all your monthly payments on our website. Here is the link for our website - https://learnwith.campusx.in/',\n",
              " 'Can we pay the entire amount of Rs 5600 all at once?',\n",
              " 'Unfortunately no, the program follows a monthly subscription model.',\n",
              " 'What is the validity of monthly subscription? Suppose if I pay on 15th Jan, then do I have to pay again on 1st Feb or 15th Feb',\n",
              " '15th Feb. The validity period is 30 days from the day you make the payment. So essentially you can join anytime you don’t have to wait for a month to end.',\n",
              " 'What if I don’t like the course after making the payment. What is the refund policy?',\n",
              " 'You get a 7 days refund period from the day you have made the payment.',\n",
              " 'I am living outside India and I am not able to make the payment on the website, what should I do?',\n",
              " 'You have to contact us by sending a mail at nitish.campusx@gmail.com',\n",
              " 'Post registration queries',\n",
              " 'Till when can I view the paid videos on the website?',\n",
              " 'This one is tricky, so read carefully. You can watch the videos till your subscription is valid. Suppose you have purchased subscription on 21st Jan, you will be able to watch all the past paid sessions in the period of 21st Jan to 20th Feb. But after 21st Feb you will have to purchase the subscription again.',\n",
              " 'But once the course is over and you have paid us Rs 5600(or 7 installments of Rs 799) you will be able to watch the paid sessions till Aug 2024.',\n",
              " 'Why lifetime validity is not provided?',\n",
              " 'Because of the low course fee.',\n",
              " 'Where can I reach out in case of a doubt after the session?',\n",
              " 'You will have to fill a google form provided in your dashboard and our team will contact you for a 1 on 1 doubt clearance session',\n",
              " 'If I join the program late, can I still ask past week doubts?',\n",
              " 'Yes, just select past week doubt in the doubt clearance google form.',\n",
              " 'I am living outside India and I am not able to make the payment on the website, what should I do?',\n",
              " 'You have to contact us by sending a mail at nitish.campusx@gmai.com',\n",
              " 'Certificate and Placement Assistance related queries',\n",
              " 'What is the criteria to get the certificate?',\n",
              " 'There are 2 criterias:',\n",
              " 'You have to pay the entire fee of Rs 5600',\n",
              " 'You have to attempt all the course assessments.',\n",
              " 'I am joining late. How can I pay payment of the earlier months?',\n",
              " 'You will get a link to pay fee of earlier months in your dashboard once you pay for the current month.',\n",
              " 'I have read that Placement assistance is a part of this program. What comes under Placement assistance?',\n",
              " 'This is to clarify that Placement assistance does not mean Placement guarantee. So we dont guarantee you any jobs or for that matter even interview calls. So if you are planning to join this course just for placements, I am afraid you will be disappointed. Here is what comes under placement assistance',\n",
              " 'Portfolio Building sessions',\n",
              " 'Soft skill sessions',\n",
              " 'Sessions with industry mentors',\n",
              " 'Discussion on Job hunting strategies',\n",
              " '']"
            ]
          },
          "metadata": {},
          "execution_count": 9
        }
      ]
    },
    {
      "cell_type": "code",
      "source": [
        "def text_to_indices(sentence, vocab):\n",
        "  numerical_sentence=[]\n",
        "  for token in sentence:\n",
        "    if token in vocab:\n",
        "      numerical_sentence.append(vocab[token])\n",
        "    else:\n",
        "      numerical_sentence.append(vocab['<unk>'])\n",
        "  return numerical_sentence"
      ],
      "metadata": {
        "id": "9FTpsIXsOXiq"
      },
      "execution_count": 10,
      "outputs": []
    },
    {
      "cell_type": "code",
      "source": [
        "input_numerical_sentences=[]\n",
        "for sentence in input_sentences:\n",
        "  input_numerical_sentences.append(text_to_indices(word_tokenize(sentence.lower()),vocab))\n",
        ""
      ],
      "metadata": {
        "id": "aQ2AMmNSNlOF"
      },
      "execution_count": 11,
      "outputs": []
    },
    {
      "cell_type": "code",
      "source": [
        "len(input_numerical_sentences)"
      ],
      "metadata": {
        "colab": {
          "base_uri": "https://localhost:8080/"
        },
        "id": "XlejrgTMQWsT",
        "outputId": "c4ea6fbd-e8bb-49ec-f439-1ccf06cf0b03"
      },
      "execution_count": 12,
      "outputs": [
        {
          "output_type": "execute_result",
          "data": {
            "text/plain": [
              "78"
            ]
          },
          "metadata": {},
          "execution_count": 12
        }
      ]
    },
    {
      "cell_type": "code",
      "source": [
        "training_sequnece=[]\n",
        "for sentence in input_numerical_sentences:\n",
        "  for i in range(1, len(sentence)):\n",
        "    training_sequnece.append(sentence[:i+1])\n",
        "\n",
        ""
      ],
      "metadata": {
        "id": "nT5Umq35Qq0t"
      },
      "execution_count": 13,
      "outputs": []
    },
    {
      "cell_type": "code",
      "source": [
        "training_sequnece[:5]"
      ],
      "metadata": {
        "colab": {
          "base_uri": "https://localhost:8080/"
        },
        "id": "rDUVap8uRPfS",
        "outputId": "43b07a9b-1448-4e6f-899e-f910016ea61c"
      },
      "execution_count": 14,
      "outputs": [
        {
          "output_type": "execute_result",
          "data": {
            "text/plain": [
              "[[1, 2], [1, 2, 3], [4, 5], [4, 5, 2], [4, 5, 2, 6]]"
            ]
          },
          "metadata": {},
          "execution_count": 14
        }
      ]
    },
    {
      "cell_type": "code",
      "source": [
        "len_list=[]\n",
        "for sequence in training_sequnece:\n",
        "  len_list.append(len(sequence))\n",
        "\n",
        "max(len_list)"
      ],
      "metadata": {
        "colab": {
          "base_uri": "https://localhost:8080/"
        },
        "id": "rhKj9nuyRsHy",
        "outputId": "da5aa7db-a42e-4671-efaa-e08099294b6c"
      },
      "execution_count": 15,
      "outputs": [
        {
          "output_type": "execute_result",
          "data": {
            "text/plain": [
              "62"
            ]
          },
          "metadata": {},
          "execution_count": 15
        }
      ]
    },
    {
      "cell_type": "code",
      "source": [
        "training_sequnece[0]"
      ],
      "metadata": {
        "colab": {
          "base_uri": "https://localhost:8080/"
        },
        "id": "jIrs1HtsSl12",
        "outputId": "2acbddbd-f496-4d4b-eabd-876c48cb6053"
      },
      "execution_count": 16,
      "outputs": [
        {
          "output_type": "execute_result",
          "data": {
            "text/plain": [
              "[1, 2]"
            ]
          },
          "metadata": {},
          "execution_count": 16
        }
      ]
    },
    {
      "cell_type": "code",
      "source": [
        "padded_training_sequence=[]\n",
        "for sequence in training_sequnece:\n",
        "\n",
        "  padded_training_sequence.append([0]*(max(len_list)-len(sequence))+sequence)\n",
        "\n"
      ],
      "metadata": {
        "id": "5Kt6bYa2SwIc"
      },
      "execution_count": 17,
      "outputs": []
    },
    {
      "cell_type": "code",
      "source": [
        "len(padded_training_sequence[0])"
      ],
      "metadata": {
        "colab": {
          "base_uri": "https://localhost:8080/"
        },
        "id": "FYL6q6ifThoz",
        "outputId": "bf1f127c-558a-4df2-afac-860d2cc7d74f"
      },
      "execution_count": 18,
      "outputs": [
        {
          "output_type": "execute_result",
          "data": {
            "text/plain": [
              "62"
            ]
          },
          "metadata": {},
          "execution_count": 18
        }
      ]
    },
    {
      "cell_type": "code",
      "source": [
        "padded_training_sequence=torch.tensor(padded_training_sequence, dtype=torch.long)"
      ],
      "metadata": {
        "id": "rpuuhy6YTs6M"
      },
      "execution_count": 19,
      "outputs": []
    },
    {
      "cell_type": "code",
      "source": [
        "padded_training_sequence"
      ],
      "metadata": {
        "colab": {
          "base_uri": "https://localhost:8080/"
        },
        "id": "xFUj2jGPUKuf",
        "outputId": "4d3f9927-b1ed-4ad6-bbba-e8496a9a200a"
      },
      "execution_count": 20,
      "outputs": [
        {
          "output_type": "execute_result",
          "data": {
            "text/plain": [
              "tensor([[  0,   0,   0,  ...,   0,   1,   2],\n",
              "        [  0,   0,   0,  ...,   1,   2,   3],\n",
              "        [  0,   0,   0,  ...,   0,   4,   5],\n",
              "        ...,\n",
              "        [  0,   0,   0,  ..., 285, 176, 286],\n",
              "        [  0,   0,   0,  ..., 176, 286, 287],\n",
              "        [  0,   0,   0,  ..., 286, 287, 288]])"
            ]
          },
          "metadata": {},
          "execution_count": 20
        }
      ]
    },
    {
      "cell_type": "code",
      "source": [
        "x= padded_training_sequence[:, :-1]\n",
        "y= padded_training_sequence[:, -1]"
      ],
      "metadata": {
        "id": "MIvRhpSsUPtr"
      },
      "execution_count": 21,
      "outputs": []
    },
    {
      "cell_type": "code",
      "source": [
        "x"
      ],
      "metadata": {
        "colab": {
          "base_uri": "https://localhost:8080/"
        },
        "id": "5grCdGwtUoGh",
        "outputId": "b06fac86-2f50-4b18-8ac0-924b35f32cbe"
      },
      "execution_count": 22,
      "outputs": [
        {
          "output_type": "execute_result",
          "data": {
            "text/plain": [
              "tensor([[  0,   0,   0,  ...,   0,   0,   1],\n",
              "        [  0,   0,   0,  ...,   0,   1,   2],\n",
              "        [  0,   0,   0,  ...,   0,   0,   4],\n",
              "        ...,\n",
              "        [  0,   0,   0,  ...,   0, 285, 176],\n",
              "        [  0,   0,   0,  ..., 285, 176, 286],\n",
              "        [  0,   0,   0,  ..., 176, 286, 287]])"
            ]
          },
          "metadata": {},
          "execution_count": 22
        }
      ]
    },
    {
      "cell_type": "code",
      "source": [
        "y"
      ],
      "metadata": {
        "collapsed": true,
        "colab": {
          "base_uri": "https://localhost:8080/"
        },
        "id": "vwtRxMPlUreU",
        "outputId": "e0ea3268-ee7f-4ade-c964-8ed72a1cfe2f"
      },
      "execution_count": 23,
      "outputs": [
        {
          "output_type": "execute_result",
          "data": {
            "text/plain": [
              "tensor([  2,   3,   5,   2,   6,   7,   8,   9,  10,  11,   3,  12,  13,  14,\n",
              "         15,   6,  16,  17,  18,  19,  20,  21,  22,  23,  24,  25,  18,  26,\n",
              "         27,  28,  29,  30,   5,   2,  31,  32,  27,   2,   6,  33,  31,  32,\n",
              "         27,   2,   6,   5,  34,  35,  30,  36,   2,  31,   6,   7,  37,  38,\n",
              "         39,  34,  40,  28,  41,  12,  42,  30,  15,   5,   2,  43,  27,   2,\n",
              "         11,   3,  33,  45,  46,  47,   2,  48,  49,  50,  52,  53,   8,   9,\n",
              "         10,  54,   8,   9,  10,   8,  57,  58,  60,  59,  64,  65,  66,   2,\n",
              "         67,  43,  68,  69,  70,  50,  71,  72,  58,  73,  74,  46,  17,  75,\n",
              "         27,  76,   3,  33,  78,  74,  73,  72,  58,  79,  80,  81,  17,  75,\n",
              "         27,  76,   3,  82,  83,  84,  30,  85,  86,  87,  17,  88,  89,  33,\n",
              "         45,  86,  90,  17,  91,  27,   2,  89,  33,  93,  94,  95,  80,  96,\n",
              "         78,  36,  97,  85,  22,  87,  17,  89,  22,  65,  98,  99,  73, 100,\n",
              "          2,  91,  30,  65,  86, 101,   2, 102, 103,  33,  76, 105, 106,  24,\n",
              "        107, 108, 109, 108, 110, 111,  27,   2,   6,  69,  70,  50, 112,  33,\n",
              "        113,  30,   5,   2, 110,  32,  27,  93,   2,  88,  95,  33,  78,  93,\n",
              "          2,  95, 115, 116, 117,  30,   5,   2, 118, 119, 109,   2, 120, 121,\n",
              "          2,  95,  33,  45,  86,  46, 124,   1,   2, 125, 102,  33,  45,  90,\n",
              "         17, 126, 127,  94, 128, 129, 130, 131,  89, 132,  22, 133,  17, 131,\n",
              "        134,  30,  86, 135,  76,   6,  85,  86, 136, 127,  17, 137, 138,  33,\n",
              "         78, 139,  30, 136, 140,  78,  65,  86, 141,   2,   3, 142,   2, 143,\n",
              "         33,  78,  22,  65, 141,   2,   3, 144,  30,  86, 145, 142,   2, 143,\n",
              "         78,  45,  86,  46, 146,  24, 107,  93,   2, 147, 148,  33,  78, 132,\n",
              "         22,  25,   2, 149,  22,  45,  46, 146,  24, 107,  93,   2, 147, 150,\n",
              "        142, 151, 152,  30, 135,  86,  23,  24, 153,   2, 154,  33, 155,  82,\n",
              "        156,  23,  24, 153,   2, 154,  30,  44,  45, 157,  22, 158,   2, 159,\n",
              "         78,  22,  23,  24, 160, 161,   2, 154, 162,  30,  44, 135,  63,  64,\n",
              "        142,   2,   3,  33,  30,  65,  44, 163,  22,  33,  65, 126, 164, 165,\n",
              "        166, 167, 168, 170, 171, 135,  44,  23,  24,  25,  94,  26,  33, 151,\n",
              "        172, 173, 174, 175,  33,  23,  24,  25,  93, 151,  18,  26, 176,  94,\n",
              "        175,  30,  68,   5,   2, 177,   8,  94, 175,  69,  70,  50, 178,  44,\n",
              "        179,   2, 180, 181,  27,  28,  41,  93, 165, 132,  33,  77,  78,   2,\n",
              "          3,  16,  17,  18,  19,  20,  30,   5,   2, 183,  27,  18,  19,  33,\n",
              "        184,  85,  86, 179, 176, 185, 186,  78, 187, 135,  86,  23,  24, 179,\n",
              "        188, 176, 189, 190, 174, 185, 190, 191,   2, 183, 192,   5, 193, 194,\n",
              "        127,   2, 195,  22,  25,   2, 149,  30,  36, 196,  22,  65, 141, 144,\n",
              "         22, 155,  82, 156,  23,  24, 197,   8,  17, 108,  24, 198,  30,  85,\n",
              "         86, 155,  82, 156, 199,   2,   6, 200, 201,   2, 149,  30,   4,   5,\n",
              "          2, 202, 203,  33,  90,  17,  34, 194, 202, 192, 127,   2, 195,  22,\n",
              "         23, 204,   2, 149,  30, 136, 205, 206, 207,  73,  86, 136,  81, 146,\n",
              "         24,  25,   2, 149, 176,   2, 175,  78,   4, 208,  86, 135,  33,  23,\n",
              "         24, 163, 164, 109, 209,  17, 126, 165, 166, 167, 168, 211, 212, 214,\n",
              "         65,  86, 215,   2, 131, 216, 176,   2, 175,  33, 217,   5, 218,  78,\n",
              "         36, 219, 220,  30,  22,  65, 100,   2, 216, 213, 151,  19,   5, 221,\n",
              "         30, 184,  22,  23, 222,  19, 176, 223, 186,  78,  22,  45,  46, 146,\n",
              "         24, 100,  93,   2, 147, 131,  95, 142,   2, 192,  27, 223, 186,  24,\n",
              "        224, 191, 225, 200, 223, 190,  22,  45,  23,  24, 226,   2,  19, 188,\n",
              "         30, 132,   2,   6,   5, 227,  73,  22,  23, 131, 164,  28,  41,  12,\n",
              "        174,  34, 228,  27,  28,  38,  15,  22,  45,  46, 146,  24, 100,   2,\n",
              "        131,  95, 213, 229,   0,  30, 232, 183,   5,  81, 233,  33,  27,   2,\n",
              "        235,   6,   7,  30,  65,  86, 236, 237, 142,  63,  27,  17, 238, 200,\n",
              "          2,  89,  33,  45,  23,  24, 239,  17, 105, 240, 233, 142, 151, 152,\n",
              "         73,  94, 241,  45, 163,  22,   8,  17, 242, 176, 242, 238, 243,  89,\n",
              "         86, 141,   2,   3, 140,  78,  65,  86, 244, 245, 147, 246, 247,  33,\n",
              "         78, 248, 249, 147, 246, 238, 142,   2, 238, 243, 105, 240,  30, 136,\n",
              "        205, 206, 207,  73,  86, 136,  81, 146,  24,  25,   2, 149, 176,   2,\n",
              "        175,  78,   4, 208,  86, 135,  33,  23,  24, 163, 164, 109, 209,  17,\n",
              "        126, 165, 166, 167, 250,  73, 252, 253, 170, 212,   5,   2, 254,  24,\n",
              "         90,   2, 251,  33,  80, 116, 256,  50,  23,  24, 179,   2, 180,   7,\n",
              "         27,  28,  41,  23,  24, 257,  93,   2,   6, 258,  30, 136, 259, 140,\n",
              "         30, 123,  65,  86, 179, 149,  27,   2, 260,  35,  33,  45,  90,  17,\n",
              "        177,  24, 179,   7,  27, 260,  35, 142, 151, 152, 132,  22, 179,   8,\n",
              "          2, 261, 108,  30,  23, 219, 262, 252, 253,   5,  17,  75,  27,  76,\n",
              "          3,  30,   4, 263, 264, 252, 253,  33,   5,  24, 265, 262, 252, 253,\n",
              "        266,  81, 267, 252, 268,  30,  36,  44, 269, 268,  22, 270, 271, 174,\n",
              "          8, 262, 272,  97, 273, 274,  30,  36,  85,  22,  80, 275,  24, 141,\n",
              "         76,   6, 248,   8, 276,  78,  86, 136, 277,  22,  45,  46, 278,  30,\n",
              "         68,   5,   4, 263, 264, 252, 253, 280,  95, 282,  95, 158, 283, 284,\n",
              "        176, 286, 287, 288])"
            ]
          },
          "metadata": {},
          "execution_count": 23
        }
      ]
    },
    {
      "cell_type": "code",
      "source": [
        "class CustomDataset(Dataset):\n",
        "  def __init__(self,x,y):\n",
        "    self.x= x\n",
        "    self.y= y\n",
        "  def __len__(self):\n",
        "    return self.x.shape[0]\n",
        "  def __getitem__(self, idx):\n",
        "    return self.x[idx], self.y[idx]"
      ],
      "metadata": {
        "id": "N_a278XhUrXm"
      },
      "execution_count": 32,
      "outputs": []
    },
    {
      "cell_type": "code",
      "source": [
        "dataset= CustomDataset(x,y)"
      ],
      "metadata": {
        "id": "LMrGljUWV00i"
      },
      "execution_count": 33,
      "outputs": []
    },
    {
      "cell_type": "code",
      "source": [
        "dataset[0]"
      ],
      "metadata": {
        "colab": {
          "base_uri": "https://localhost:8080/"
        },
        "id": "SBALYtKBna5d",
        "outputId": "41b75eac-9ff9-4b9a-82c2-29e2a1801eba"
      },
      "execution_count": 34,
      "outputs": [
        {
          "output_type": "execute_result",
          "data": {
            "text/plain": [
              "(tensor([0, 0, 0, 0, 0, 0, 0, 0, 0, 0, 0, 0, 0, 0, 0, 0, 0, 0, 0, 0, 0, 0, 0, 0,\n",
              "         0, 0, 0, 0, 0, 0, 0, 0, 0, 0, 0, 0, 0, 0, 0, 0, 0, 0, 0, 0, 0, 0, 0, 0,\n",
              "         0, 0, 0, 0, 0, 0, 0, 0, 0, 0, 0, 0, 1]),\n",
              " tensor(2))"
            ]
          },
          "metadata": {},
          "execution_count": 34
        }
      ]
    },
    {
      "cell_type": "code",
      "source": [
        "len(dataset)"
      ],
      "metadata": {
        "colab": {
          "base_uri": "https://localhost:8080/"
        },
        "id": "n9_Nxe5ZnmeZ",
        "outputId": "fc083519-d33e-48cd-961d-2686a97e7552"
      },
      "execution_count": 35,
      "outputs": [
        {
          "output_type": "execute_result",
          "data": {
            "text/plain": [
              "942"
            ]
          },
          "metadata": {},
          "execution_count": 35
        }
      ]
    },
    {
      "cell_type": "code",
      "source": [
        "dataloader= DataLoader(dataset, batch_size=32, shuffle=True)"
      ],
      "metadata": {
        "id": "TsZM7O62oK3a"
      },
      "execution_count": 36,
      "outputs": []
    },
    {
      "cell_type": "code",
      "source": [
        "for input, output in dataloader:\n",
        "  print(input,output)"
      ],
      "metadata": {
        "colab": {
          "base_uri": "https://localhost:8080/"
        },
        "collapsed": true,
        "id": "hacJvr1kojAs",
        "outputId": "8c48b116-edaf-497a-bfb2-ddef2c05f8b7"
      },
      "execution_count": 37,
      "outputs": [
        {
          "output_type": "stream",
          "name": "stdout",
          "text": [
            "tensor([[  0,   0,   0,  ..., 112,  33, 113],\n",
            "        [  0,   0,   0,  ..., 252, 268,  30],\n",
            "        [  0,   0,   0,  ...,   0,   0,   1],\n",
            "        ...,\n",
            "        [  0,   0,   0,  ...,  46,  47,   2],\n",
            "        [  0,   0,   0,  ..., 197,   8,  17],\n",
            "        [  0,   0,   0,  ...,   0,   0,  85]]) tensor([ 30,  36,   2, 195,  81,  90,  24,  27,   2, 109, 153, 188,  45, 253,\n",
            "        135,   2,  86, 132, 173,  33, 147,  50,  33,  64, 144,  33,  28,  89,\n",
            "         33,  48, 108,  86])\n",
            "tensor([[  0,   0,   0,  ..., 266,  81, 267],\n",
            "        [  0,   0,   0,  ...,  25,   2, 149],\n",
            "        [  0,   0,   0,  ...,   0, 225, 132],\n",
            "        ...,\n",
            "        [  0,   0,   0,  ..., 100,   2,  91],\n",
            "        [  0,   0,   0,  ...,  31,  32,  27],\n",
            "        [  0,   0,   0,  ...,  73,  72,  58]]) tensor([252, 176,   2,  88,  96,   2, 121,  46,  33, 242,  38, 109,  31,  78,\n",
            "         33, 149, 136,  24, 126, 184,   3,   3,  27, 212,  30,  23, 219, 142,\n",
            "         65,  30,   2,  79])\n",
            "tensor([[  0,   0,   0,  ..., 248,   8, 276],\n",
            "        [  0,   0,   0,  ...,  27,   2,   6],\n",
            "        [  0,   0,   0,  ...,  18,  19,  20],\n",
            "        ...,\n",
            "        [  0,   0,   0,  ...,   0, 281, 282],\n",
            "        [  0,   0,   0,  ...,   6,  85,  86],\n",
            "        [  0,   0,   0,  ...,   0,   0,   4]]) tensor([ 78,  69,  21,   2,  17, 168,   6, 264, 165,  95, 154,   2,   1, 150,\n",
            "        186,   2, 142,  24,  19, 240,  22,  89,  36,   5, 188, 177, 141, 141,\n",
            "        175,  95, 136,   5])\n",
            "tensor([[  0,   0,   0,  ..., 142,   2,   3],\n",
            "        [  0,   0,   0,  ...,  24, 100,  93],\n",
            "        [  0,   0,   0,  ...,   0,   0,   9],\n",
            "        ...,\n",
            "        [  0,   0,   0,  ...,  24, 265, 262],\n",
            "        [  0,   0,   0,  ...,  92,  78, 248],\n",
            "        [  0,   0,   0,  ..., 208,  86, 135]]) tensor([ 33,   2,  54,  78, 171, 124,  17, 153,  16,  65, 179, 128, 236, 108,\n",
            "         28,  30, 132,  25,  33,  10, 164,  24,  23,  65,   2,  75,  30, 268,\n",
            "        280, 252, 249,  33])\n",
            "tensor([[  0,   0,   0,  ...,   7,  27,  28],\n",
            "        [  0,   0,   0,  ...,   8, 262, 272],\n",
            "        [  0,   0,   0,  ..., 146,  24, 100],\n",
            "        ...,\n",
            "        [  0,   0,   0,  ...,   8,  94, 175],\n",
            "        [  0,   0,   0,  ...,   2, 147, 131],\n",
            "        [  0,   0,   0,  ..., 131,  89, 132]]) tensor([ 41,  97,   2,  17, 245, 179,  44,  74,  75,  27, 100,  23, 141,  73,\n",
            "         57,  17,  72, 130,  24,  22,  24, 163, 250, 176,  23, 198,  23,  44,\n",
            "         87,  69,  95,  22])\n",
            "tensor([[  0,   0,   0,  ..., 189, 190, 174],\n",
            "        [  0,   0,   0,  ...,   0,  21, 135],\n",
            "        [  0,   0,   0,  ...,   2, 192,  27],\n",
            "        ...,\n",
            "        [  0,   0,   0,  ..., 202, 192, 127],\n",
            "        [  0,   0,   0,  ...,  17, 126, 165],\n",
            "        [  0,   0,   0,  ...,  73,  22,  23]]) tensor([185,  86, 223, 235,   2, 113,  14,  23,  76,   8,  43,  27, 207,  22,\n",
            "        284,   2, 217,  46,  76, 262, 157,  33, 183,  27,  80, 126,  93,  86,\n",
            "         17,   2, 166, 131])\n",
            "tensor([[  0,   0,   0,  ...,  46, 124,   1],\n",
            "        [  0,   0,   0,  ...,   0,   0,  85],\n",
            "        [  0,   0,   0,  ...,   0,   0,   4],\n",
            "        ...,\n",
            "        [  0,   0,   0,  ..., 136, 140,  78],\n",
            "        [  0,   0,   0,  ...,  88,  89,  33],\n",
            "        [  0,   0,   0,  ...,   0, 251,  73]]) tensor([  2,  86,   5, 222, 176,   4,  22,  60,  41, 288,  30,  86, 200,  78,\n",
            "         50, 253, 237,  70,  78,  25, 107,  30, 251, 158,  78,  22,  93,   8,\n",
            "          2,  65,  45, 252])\n",
            "tensor([[  0,   0,   0,  ..., 149,  30,   4],\n",
            "        [  0,   0,   0,  ..., 175,  69,  70],\n",
            "        [  0,   0,   0,  ...,  18,  19,  20],\n",
            "        ...,\n",
            "        [  0,   0,   0,  ...,  25,   2, 149],\n",
            "        [  0,   0,   0,  ...,   4,   5,   2],\n",
            "        [  0,   0,   0,  ...,   0,   0,  22]]) tensor([  5,  50,  30,   2, 208, 190,   2,  22, 154, 282,   6,  24,  94,   4,\n",
            "        142, 164,  28,  45, 209, 196,  91,  24,  86, 264,  81,  15,   7,  23,\n",
            "         46, 176, 118,  65])\n",
            "tensor([[  0,   0,   0,  ...,  24, 163, 164],\n",
            "        [  0,   0,   0,  ...,  78,  36,  97],\n",
            "        [  0,   0,   0,  ...,   4, 263, 264],\n",
            "        ...,\n",
            "        [  0,   0,   0,  ...,  22,  65,  98],\n",
            "        [  0,   0,   0,  ...,  22,  23,  24],\n",
            "        [  0,   0,   0,  ..., 132,  22,  25]]) tensor([109,  85, 252, 190,  78, 244,  31,  98, 142, 117, 229,   8,  44,  63,\n",
            "        138, 156, 143,  93,  53,   2,   4,  58, 224, 270,   8,  85, 123, 105,\n",
            "         75,  99, 257,   2])\n",
            "tensor([[  0,   0,   0,  ...,  23,  24, 160],\n",
            "        [  0,   0,   0,  ...,   5,   2, 254],\n",
            "        [  0,   0,   0,  ...,   0,   0,   2],\n",
            "        ...,\n",
            "        [  0,   0,   0,  ..., 124,   1,   2],\n",
            "        [  0,   0,   0,  ...,  86, 135,  76],\n",
            "        [  0,   0,   0,  ...,   0,   0, 114]]) tensor([161,  24,   6, 141,  22, 195, 149,  41,  78,  27,  71,  46,  26,  52,\n",
            "         27,  24, 262,   2, 175,  22, 166,  73,  86,  49,  76,   2,   6,  86,\n",
            "         72, 125,   6,  78])\n",
            "tensor([[  0,   0,   0,  ..., 161,   2, 154],\n",
            "        [  0,   0,   0,  ..., 199,   2,   6],\n",
            "        [  0,   0,   0,  ...,   4,   5,   2],\n",
            "        ...,\n",
            "        [  0,   0,   0,  ..., 160, 161,   2],\n",
            "        [  0,   0,   0,  ...,   6, 248,   8],\n",
            "        [  0,   0,   0,  ..., 206, 207,  73]]) tensor([162, 200, 202,  65,  78,  30, 273,  22,  23,   5,   2,  33, 101, 256,\n",
            "        180,   7, 145,  45,  17,   2, 146, 238,  30,  86,  33,  13,  23, 205,\n",
            "        254, 154, 276,  86])\n",
            "tensor([[  0,   0,   0,  ...,  18,  26, 176],\n",
            "        [  0,   0,   0,  ..., 108, 110, 111],\n",
            "        [  0,   0,   0,  ...,   0,  76, 217],\n",
            "        ...,\n",
            "        [  0,   0,   0,  ...,   2, 177,   8],\n",
            "        [  0,   0,   0,  ..., 214,  65,  86],\n",
            "        [  0,   0,   0,  ...,  45,  46,  47]]) tensor([ 94,  27,   5,  27,  46,  24,   5,   2,  85, 199, 174,  34,  45,  24,\n",
            "        208,  26,  24, 146, 136, 135,  24, 151,  73,   2,  17,  17,  73, 241,\n",
            "        192,  94, 215,   2])\n",
            "tensor([[  0,   0,   0,  ..., 216, 176,   2],\n",
            "        [  0,   0,   0,  ..., 147, 131,  95],\n",
            "        [  0,   0,   0,  ...,  75,  27,  76],\n",
            "        ...,\n",
            "        [  0,   0,   0,  ...,  76,   5,  24],\n",
            "        [  0,   0,   0,  ..., 263, 264, 252],\n",
            "        [  0,   0,   0,  ...,  65,  44, 163]]) tensor([175, 142,   3, 186,   6, 246,   5, 194,   7,  45,   2, 127,   2,  45,\n",
            "          3, 140, 126, 179,  30,   9,  12, 213,  23, 174,  22, 116, 110, 209,\n",
            "         39, 265, 253,  22])\n",
            "tensor([[  0,   0,   0,  ..., 156, 199,   2],\n",
            "        [  0,   0,   0,  ...,  24, 100,   2],\n",
            "        [  0,   0,   0,  ...,   0,   0,  21],\n",
            "        ...,\n",
            "        [  0,   0,   0,  ...,  43,  27,   2],\n",
            "        [  0,   0,   0,  ..., 274,  30,  36],\n",
            "        [  0,   0,   0,  ...,  45,  23,  24]]) tensor([  6, 131,  65, 136, 168,   8,   3,   0,  19, 167, 115, 220,  17, 185,\n",
            "         25,   3,   2,  86, 109,   2,  84,   2, 192,   3,  33,  67,  68, 133,\n",
            "        268,  11,  85, 239])\n",
            "tensor([[  0,   0,   0,  ...,   0,   0,  22],\n",
            "        [  0,   0,   0,  ...,  63,  64, 142],\n",
            "        [  0,   0,   0,  ..., 136, 205, 206],\n",
            "        ...,\n",
            "        [  0,   0,   0,  ..., 239,  17, 105],\n",
            "        [  0,   0,   0,  ..., 183, 192,   5],\n",
            "        [  0,   0,   0,  ..., 135,  63,  64]]) tensor([ 23,   2, 207, 132, 119, 221,  90, 179,  22,  15, 179,  45, 206,  44,\n",
            "         28, 175,   2,  86,  82,  93,   7,  45, 155, 135,  93,  22, 127, 233,\n",
            "         85, 240, 193, 142])\n",
            "tensor([[  0,   0,   0,  ..., 206, 207,  73],\n",
            "        [  0,   0,   0,  ...,   0, 231, 232],\n",
            "        [  0,   0,   0,  ...,   0,  22,  65],\n",
            "        ...,\n",
            "        [  0,   0,   0,  ...,  68,   5,   4],\n",
            "        [  0,   0,   0,  ...,   0,  95, 158],\n",
            "        [  0,   0,   0,  ...,  41,  12, 174]]) tensor([ 86, 183, 126,  36,  89,  27,  34,  64,  33,   2,  32, 200, 275,  90,\n",
            "        223,   3, 223, 183,  89, 111,  30,   2, 102, 205,  34,  85, 258, 147,\n",
            "         78, 263, 283,  34])\n",
            "tensor([[  0,   0,   0,  ...,  78,  22,  45],\n",
            "        [  0,   0,   0,  ...,   0,   4,  85],\n",
            "        [  0,   0,   0,  ...,  46, 146,  24],\n",
            "        ...,\n",
            "        [  0,   0,   0,  ..., 107,  93,   2],\n",
            "        [  0,   0,   0,  ..., 179, 188, 176],\n",
            "        [  0,   0,   0,  ..., 182,  77,  78]]) tensor([ 46,  86, 107, 151,  33,  45,   2, 191, 216, 242,  30,  24,  30, 261,\n",
            "        127,  22, 152,  23,  86,  86, 190,  41,  93, 274, 175,  40,   2,  33,\n",
            "        179, 147, 189,   2])\n",
            "tensor([[  0,   0,   0,  ..., 174,  34, 228],\n",
            "        [  0,   0,   0,  ...,  64, 142,   2],\n",
            "        [  0,   0,   0,  ...,   2, 131, 216],\n",
            "        ...,\n",
            "        [  0,   0,   0,  ...,  44,  45,  46],\n",
            "        [  0,   0,   0,  ...,   0,   4,   5],\n",
            "        [  0,   0,   0,  ...,   0,   0,  61]]) tensor([ 27,   3, 176, 131, 243,  24,  35,  18,  45,  22, 151, 146, 178,  32,\n",
            "         17,  95,  36, 156,  65,  33,   5,  68,  76,  30, 181,  93, 172,  23,\n",
            "         46,  47,   2,  59])\n",
            "tensor([[  0,   0,   0,  ...,  36,  85,  22],\n",
            "        [  0,   0,   0,  ..., 136,  81, 146],\n",
            "        [  0,   0,   0,  ...,  30,  68,   5],\n",
            "        ...,\n",
            "        [  0,   0,   0,  ...,  87,  17,  89],\n",
            "        [  0,   0,   0,  ...,   2, 125, 102],\n",
            "        [  0,   0,   0,  ..., 100,   2, 216]]) tensor([ 80,  24,   4,  17,  30, 132,  24,  86, 136, 135, 131,  33, 107,   5,\n",
            "        252,  23, 238,  30,  30, 170, 179,   5, 163, 100, 286, 232, 146,  22,\n",
            "        164,  22,  33, 213])\n",
            "tensor([[  0,   0,   0,  ..., 133,  17, 131],\n",
            "        [  0,   0,   0,  ...,  27, 260,  35],\n",
            "        [  0,   0,   0,  ...,  23,  24, 197],\n",
            "        ...,\n",
            "        [  0,   0,   0,  ..., 175,  30,  68],\n",
            "        [  0,   0,   0,  ...,   6,   7,  37],\n",
            "        [  0,   0,   0,  ...,   8,   9,  10]]) tensor([134, 142,   8,  33, 143, 146, 152,  77,  37,   6,  94,   3,   2, 136,\n",
            "         27,  69, 228,  97,  73, 105, 201, 233, 103, 149,  30,   2, 278,   6,\n",
            "         23,   5,  38,  11])\n",
            "tensor([[  0,   0,   0,  ..., 146,  24, 100],\n",
            "        [  0,   0,   0,  ..., 105, 240, 233],\n",
            "        [  0,   0,   0,  ...,   0,   0, 210],\n",
            "        ...,\n",
            "        [  0,   0,   0,  ...,   3,  16,  17],\n",
            "        [  0,   0,   0,  ...,  78,  86, 136],\n",
            "        [  0,   0,   0,  ..., 120, 121,   2]]) tensor([ 93, 142, 211, 238,   9,  30, 152,   2, 266, 136,  65,  28, 167,  93,\n",
            "        148,   2,  20,  68,  89,  23, 246,  58, 149,   2,  30,   2,  73,  17,\n",
            "        219,  18, 277,  95])\n",
            "tensor([[  0,   0,   0,  ...,  16,  17,  18],\n",
            "        [  0,   0,   0,  ...,  45,  46, 146],\n",
            "        [  0,   0,   0,  ...,  86, 136, 127],\n",
            "        ...,\n",
            "        [  0,   0,   0,  ...,  17,  89,  22],\n",
            "        [  0,   0,   0,  ...,   0, 139,  78],\n",
            "        [  0,   0,   0,  ...,  28,  38,  15]]) tensor([ 19,  24,  17,  30,  65,   2,  17,   2,  74,  19, 167,  12,  27,  33,\n",
            "         33,  23,  24,  70, 136,   2,  50,   5, 243,   6, 165,  32, 177,  86,\n",
            "         25,  65,  22,  22])\n",
            "tensor([[  0,   0,   0,  ..., 135,  86,  23],\n",
            "        [  0,   0,   0,  ...,  27,  76,   3],\n",
            "        [  0,   0,   0,  ...,   4,  85,  86],\n",
            "        ...,\n",
            "        [  0,   0,   0,  ...,  24, 141,  76],\n",
            "        [  0,   0,   0,  ...,  80, 275,  24],\n",
            "        [  0,   0,   0,  ...,  76,   6, 248]]) tensor([ 24,  82, 155, 142, 129,  24,  24,  45,  78,  81,   2,  17,  27,  83,\n",
            "          2,  45,  86,  33, 160, 269, 155, 218,  33,   2, 116, 131,  30, 271,\n",
            "         70,   6, 141,   8])\n",
            "tensor([[  0,   0,   0,  ...,   0,   0,  65],\n",
            "        [  0,   0,   0,  ...,  36,  97,  85],\n",
            "        [  0,   0,   0,  ..., 176, 185, 186],\n",
            "        ...,\n",
            "        [  0,   0,   0,  ..., 285, 176, 286],\n",
            "        [  0,   0,   0,  ..., 271, 174,   8],\n",
            "        [  0,   0,   0,  ...,  86, 136, 259]]) tensor([ 86,  22,  78,  65,  33, 100,  12,  44,  80,   3,  27, 191,  17,  18,\n",
            "        112, 260,  82,   2,  30,   2, 156,  30, 202, 159,  33,   9, 174,  87,\n",
            "          2, 287, 262, 140])\n",
            "tensor([[  0,   0,   0,  ...,  77,  78,  74],\n",
            "        [  0,   0,   0,  ...,   0,   0, 213],\n",
            "        [  0,   0,   0,  ...,  33,  45,  86],\n",
            "        ...,\n",
            "        [  0,   0,   0,  ..., 251,  73, 252],\n",
            "        [  0,   0,   0,  ..., 232, 183,   5],\n",
            "        [  0,   0,   0,  ...,   2,  43,  27]]) tensor([ 73, 214,  90,   2, 131,  44,  35, 102,  33,  86,  17,  36,   2,  76,\n",
            "         78,  19,  27,  33, 186, 127, 151, 206, 176,  22, 180,  78,  50, 108,\n",
            "        176, 253,  81,   2])\n",
            "tensor([[  0,   0,   0,  ...,  73,  86, 136],\n",
            "        [  0,   0,   0,  ..., 104,  76, 105],\n",
            "        [  0,   0,   0,  ...,  21,  65,  44],\n",
            "        ...,\n",
            "        [  0,   0,   0,  ...,   0,  22,  45],\n",
            "        [  0,   0,   0,  ...,  16,  17,  18],\n",
            "        [  0,   0,   0,  ..., 185, 186,  78]]) tensor([ 81, 106, 163, 252,  78,  73,  43, 263,  15,   5,   2,  31, 204,   2,\n",
            "         63,  94,   2, 203,  42, 248,  25, 149, 140,   4,  45,  89,  23, 137,\n",
            "        149,  90,  19, 187])\n",
            "tensor([[  0,   0,   0,  ..., 257,  93,   2],\n",
            "        [  0,   0,   0,  ...,   2, 183,  27],\n",
            "        [  0,   0,   0,  ...,   4,   5,   2],\n",
            "        ...,\n",
            "        [  0,   0,   0,  ..., 245, 147, 246],\n",
            "        [  0,   0,   0,  ...,  41,  12,  42],\n",
            "        [  0,   0,   0,  ...,  78, 248, 249]]) tensor([  6,  18, 110, 248,  30,  16, 176,   2, 135,  25,   7,   5,  33,  30,\n",
            "         22, 184,   2,  66, 212, 170,  86,  33,  29, 174,   5, 165,  91,  30,\n",
            "         26, 247,  30, 147])\n",
            "tensor([[  0,   0,   0,  ..., 139,  78,  22],\n",
            "        [  0,   0,   0,  ...,  85,  86,  87],\n",
            "        [  0,   0,   0,  ..., 192,   5, 193],\n",
            "        ...,\n",
            "        [  0,   0,   0,  ...,   0,   0,  77],\n",
            "        [  0,   0,   0,  ...,  45,  86,  46],\n",
            "        [  0,   0,   0,  ...,   0,  45,  44]]) tensor([ 65,  17, 194, 144, 227, 253,  82,  18,  35, 197,   2,   5,  46,  27,\n",
            "         30,  28,  20, 226,  22, 225,  78,  24, 164,  80,  95, 176, 165,  36,\n",
            "         24,  78, 146, 135])\n",
            "tensor([[  0,   0,   0,  ...,   8,   2, 261],\n",
            "        [  0,   0,   0,  ..., 243, 105, 240],\n",
            "        [  0,   0,   0,  ..., 174,   8, 262],\n",
            "        ...,\n",
            "        [  0,   0,   0,  ..., 191,   2, 183],\n",
            "        [  0,   0,   0,  ...,  22,  23,  24],\n",
            "        [  0,   0,   0,  ..., 252, 253,   5]]) tensor([108,  30, 272,  24,  95,  95, 135, 147, 120,   2,   8,   8, 158, 151,\n",
            "        149, 238, 139, 151, 132,  27, 105,  94,  76,  25,  24,  88,  10,  58,\n",
            "        259, 192, 163,  17])\n",
            "tensor([[  0,   0,   0,   0,   0,   0,   0,   0,   0,   0,   0,   0,   0,   0,\n",
            "           0,   0,   0,   0,   0,   0,   0,   0,   0,   0,   0,   0,   0,   0,\n",
            "           0,   0,   0,   0,   0,   0,   0,   0,   0,   0,   0,   0,   0,   0,\n",
            "           0,   0,   0,   0,   0,   0,  21, 135,  44,  23,  24,  25,  94,  26,\n",
            "          33, 151, 172, 173, 174],\n",
            "        [  0,   0,   0,   0,   0,   0,   0,   0,   0,   0,   0,   0,   0,   0,\n",
            "           0,   0,   0,   0,   0,   0,   0,   0,   0,   0,   0,   0,   0,   0,\n",
            "           0,   0,   0,   0,   0,   0,   0,   0,   0,   0,   0,   0,   0,  92,\n",
            "          78, 132,  22,  25,   2, 149,  22,  45,  46, 146,  24, 107,  93,   2,\n",
            "         147, 150, 142, 151, 152],\n",
            "        [  0,   0,   0,   0,   0,   0,   0,   0,   0,   0,   0,   0,   0,   0,\n",
            "           0,   0,   0,   0,   0,   0,   0,   0,   0,   0,   0,   0,   0,   0,\n",
            "           0,   0,   0,   0,   0,   0,   0,   0,   0,   0,   0,   0,   0,   0,\n",
            "           0,   0,   0,   0,   0,   0,   0,   0,   0,   0,   0,   0,   0,   0,\n",
            "           0, 225, 132,   2,   6],\n",
            "        [  0,   0,   0,   0,   0,   0,   0,   0,   0,   0,   0,   0,   0,   0,\n",
            "           0,   0,   0,   0,   0,   0,   0,   0,   0,   0,   0,   0,   0,  76,\n",
            "         217,   5, 218,  78,  36, 219, 220,  30,  22,  65, 100,   2, 216, 213,\n",
            "         151,  19,   5, 221,  30, 184,  22,  23, 222,  19, 176, 223, 186,  78,\n",
            "          22,  45,  46, 146,  24],\n",
            "        [  0,   0,   0,   0,   0,   0,   0,   0,   0,   0,   0,   0,   0,   0,\n",
            "           0,   0,   0,   0,   0,   0,   0,   0,   0,   0,   0,   0,   0,   0,\n",
            "           0,   0,   0,   0,   0,   0,   0,   0,   0,   0,   0,   0,   0,   0,\n",
            "           0,   0,   0,   0,   0,   0,   0,   0,   2,  31,  32,  27,   2,   6,\n",
            "           5,  34,  35,  30,  36],\n",
            "        [  0,   0,   0,   0,   0,   0,   0,   0,   0,   0,   0,   0,   0,   0,\n",
            "           0,   0,   0,   0,   0,   0,   0,   0,   0,   0,   0,   0,   0,   0,\n",
            "           0,   0,   0,   0,   0,   0,   0,   0,   0,   0,   0,   0,   0,   0,\n",
            "           0,   0,   0,   0,   0,   0,  76, 217,   5, 218,  78,  36, 219, 220,\n",
            "          30,  22,  65, 100,   2],\n",
            "        [  0,   0,   0,   0,   0,   0,   0,   0,   0,   0,   0,   0,   0,   0,\n",
            "           0,   0,   0,   0,   0,   0,   0,   0,   0,   0,   0,   0,   0,   0,\n",
            "           0,   0,   0,   0,   0,   0,   0,   0,   0,   0,   0,   0,   0,   0,\n",
            "           0,   0,   0,   0,   0,   0,   0,   0,   0,   0,   0,   0,   0,   0,\n",
            "          22,  65, 126, 164, 165],\n",
            "        [  0,   0,   0,   0,   0,   0,   0,   0,   0,   0,   0,   0,   0,   0,\n",
            "           0,   0,   0,   0,   0,   0,   0,   0,   0,   0,   0,   0,   0,   0,\n",
            "           0,   0,   0,   0,   0,   0,   0,   0,   0,   0,   0,   0,   0,   0,\n",
            "           0,   0,   0,   0,   0,   0,   0,   0,   0,   0,  76,   5,  24, 265,\n",
            "         262, 252, 253, 266,  81],\n",
            "        [  0,   0,   0,   0,   0,   0,   0,   0,   0,   0,   0,   0,   0,   0,\n",
            "           0,   0,   0,   0,   0,   0,   0,   0,   0,   0,   0,   0,   0,   0,\n",
            "           0,   0,   0,   0,   0,   0,   0,   0,   0,   0,   0,   0,   0,   0,\n",
            "           0,   0,   0,   0,   0,   0,   0,   0,   0,   0,   0,   0,   4,   5,\n",
            "           2,   6,   7,   8,   9],\n",
            "        [  0,   0,   0,   0,   0,   0,   0,   0,   0,   0,   0,   0,   0,   0,\n",
            "           0,   0,   0,   0,   0,   0,   0,   0,   0,   0,   0,   0,   0,   0,\n",
            "           0,   0,   0,   0,   0,   0,   0,   0,   0,   0,   0,   0,  76, 217,\n",
            "           5, 218,  78,  36, 219, 220,  30,  22,  65, 100,   2, 216, 213, 151,\n",
            "          19,   5, 221,  30, 184],\n",
            "        [  0,   0,   0,   0,   0,   0,   0,   0,   0,   0,   0,   0,   0,   0,\n",
            "           0,   0,   0,   0,   0,   0,   0,   0,   0,   0,   0,   0,   0,   0,\n",
            "           0,   0,   0,   0,   0,   0,   0,   0,   0,   0,   0,   0,   0,   0,\n",
            "           0,   0,   0,   0,   0,   0,   0,  86, 136, 259, 140,  30, 123,  65,\n",
            "          86, 179, 149,  27,   2],\n",
            "        [  0,   0,   0,   0,   0,   0,   0,   0,   0,   0,   0,   0,   0,   0,\n",
            "           0,   0,   0,   0,   0,   0,   0,   0,   0,   0,   0,   0,   0,   0,\n",
            "           0,   0,   0,   0,   0,   0,   0,   0,   0,   0,   0,   0,   0,   0,\n",
            "           0,   0,   0,   0,   0,   0,   0,   0,   0,   0,   0,   0,   0,   0,\n",
            "           0,   0,   0,   0,  56],\n",
            "        [  0,   0,   0,   0,   0,   0,   0,   0,   0,   0,   0,   0,   0,   0,\n",
            "           0,   0,   0,   0,   0,   0,   0,   0,   0,   0,   0,   0,   0,   0,\n",
            "           0,   0,   0,   0,   0,   0,   0,   0,   0,   0,   0,   0,   0,   0,\n",
            "           0,   0,   0,   0,   0,   0,   0,   0,   0,   0,   0,  45,  72,  58,\n",
            "          73,  74,  46,  17,  75],\n",
            "        [  0,   0,   0,   0,   0,   0,   0,   0,   0,   0,   0,   0,   0,   0,\n",
            "           0,   0,   0,   0,   0,   0,   0,   0,   0,   0,   0,   0,   0,   0,\n",
            "           0,   0,   0,   0,   0,   0,   0,   0,   0,   0,   0,   0,   0,   0,\n",
            "           0,   0,   0,   0, 185, 191,   2, 183, 192,   5, 193, 194, 127,   2,\n",
            "         195,  22,  25,   2, 149]]) tensor([175,  30,   5, 100,   2, 216, 166, 267,  10,  22, 260,   8,  27,  30])\n"
          ]
        }
      ]
    },
    {
      "cell_type": "code",
      "source": [
        "class LSTMModel(nn.Module):\n",
        "  def __init__(self, vocab_size):\n",
        "    super().__init__()\n",
        "    self.embedding= nn.Embedding(vocab_size, 100)\n",
        "    self.lstm= nn.LSTM(100,150, batch_first=True)\n",
        "    self.fc= nn.Linear(150, vocab_size)\n",
        "  def forward(self, x):\n",
        "    embedded= self.embedding(x)\n",
        "    intermidiate_states, (final_hidden_state, final_cell_state)= self.lstm(embedded)\n",
        "    output= self.fc(final_hidden_state.squeeze(0))\n",
        "    return output\n"
      ],
      "metadata": {
        "id": "xxCAK5Alo0kJ"
      },
      "execution_count": 53,
      "outputs": []
    },
    {
      "cell_type": "code",
      "source": [
        "x= nn.Embedding(289, 100)\n",
        "y= nn.LSTM(100,150, batch_first=True)\n",
        "z= nn.Linear(150, 289)"
      ],
      "metadata": {
        "id": "pU9zuvakssWq"
      },
      "execution_count": 50,
      "outputs": []
    },
    {
      "cell_type": "code",
      "source": [
        "a= dataset[0][0].unsqueeze(0)"
      ],
      "metadata": {
        "id": "B_XkNim7s8US"
      },
      "execution_count": 40,
      "outputs": []
    },
    {
      "cell_type": "code",
      "source": [
        "x(a).shape"
      ],
      "metadata": {
        "colab": {
          "base_uri": "https://localhost:8080/"
        },
        "id": "2BYk-qvFtFEM",
        "outputId": "e0d4b906-cdef-4ffe-e966-26ea5ef41a1c"
      },
      "execution_count": 43,
      "outputs": [
        {
          "output_type": "execute_result",
          "data": {
            "text/plain": [
              "torch.Size([1, 61, 100])"
            ]
          },
          "metadata": {},
          "execution_count": 43
        }
      ]
    },
    {
      "cell_type": "code",
      "source": [
        "b= x(a)"
      ],
      "metadata": {
        "id": "lDfBHN_8tR0B"
      },
      "execution_count": 44,
      "outputs": []
    },
    {
      "cell_type": "code",
      "source": [
        "c,d= y(b) #set of all intermidiate hidden state"
      ],
      "metadata": {
        "id": "AufIrsHMtXKp"
      },
      "execution_count": 46,
      "outputs": []
    },
    {
      "cell_type": "code",
      "source": [
        "c.shape"
      ],
      "metadata": {
        "colab": {
          "base_uri": "https://localhost:8080/"
        },
        "id": "hXsTnp6rtm37",
        "outputId": "9fcb978a-5fe0-4376-9cdd-7fb287d3db6a"
      },
      "execution_count": 47,
      "outputs": [
        {
          "output_type": "execute_result",
          "data": {
            "text/plain": [
              "torch.Size([1, 61, 150])"
            ]
          },
          "metadata": {},
          "execution_count": 47
        }
      ]
    },
    {
      "cell_type": "code",
      "source": [
        "e,f=d"
      ],
      "metadata": {
        "id": "xYmTgeUwtpTV"
      },
      "execution_count": 48,
      "outputs": []
    },
    {
      "cell_type": "code",
      "source": [
        "e.shape # set of all intermidiate cells"
      ],
      "metadata": {
        "colab": {
          "base_uri": "https://localhost:8080/"
        },
        "id": "b6LDJD0ZuA0t",
        "outputId": "46ee5f2c-330b-472d-ed5f-d8a54d55a1af"
      },
      "execution_count": 49,
      "outputs": [
        {
          "output_type": "execute_result",
          "data": {
            "text/plain": [
              "torch.Size([1, 1, 150])"
            ]
          },
          "metadata": {},
          "execution_count": 49
        }
      ]
    },
    {
      "cell_type": "code",
      "source": [
        "z(f.squeeze(0)).shape"
      ],
      "metadata": {
        "colab": {
          "base_uri": "https://localhost:8080/"
        },
        "id": "EASRHVShukiL",
        "outputId": "7f5314b0-19a5-4e28-86e4-bfc328c632cf"
      },
      "execution_count": 52,
      "outputs": [
        {
          "output_type": "execute_result",
          "data": {
            "text/plain": [
              "torch.Size([1, 289])"
            ]
          },
          "metadata": {},
          "execution_count": 52
        }
      ]
    },
    {
      "cell_type": "code",
      "source": [
        "model= LSTMModel(len(vocab))"
      ],
      "metadata": {
        "id": "ydhfxjqSu0rx"
      },
      "execution_count": 54,
      "outputs": []
    },
    {
      "cell_type": "code",
      "source": [
        "device= torch.device('cuda' if torch.cuda.is_available()else'cpu')"
      ],
      "metadata": {
        "id": "5EGUc20Wv2_u"
      },
      "execution_count": 55,
      "outputs": []
    },
    {
      "cell_type": "code",
      "source": [
        "model.to(device)"
      ],
      "metadata": {
        "colab": {
          "base_uri": "https://localhost:8080/"
        },
        "id": "AtTUUJCowE0Z",
        "outputId": "2534abcc-dc01-4a44-9723-e9e5f113b50c"
      },
      "execution_count": 56,
      "outputs": [
        {
          "output_type": "execute_result",
          "data": {
            "text/plain": [
              "LSTMModel(\n",
              "  (embedding): Embedding(289, 100)\n",
              "  (lstm): LSTM(100, 150, batch_first=True)\n",
              "  (fc): Linear(in_features=150, out_features=289, bias=True)\n",
              ")"
            ]
          },
          "metadata": {},
          "execution_count": 56
        }
      ]
    },
    {
      "cell_type": "code",
      "source": [
        "epochs= 50\n",
        "learning_rate= 0.001\n",
        "\n",
        "criterion= nn.CrossEntropyLoss()\n",
        "\n",
        "optimizer= torch.optim.Adam(model.parameters(), lr=learning_rate)"
      ],
      "metadata": {
        "id": "DQnUsUSywLh8"
      },
      "execution_count": 57,
      "outputs": []
    },
    {
      "cell_type": "code",
      "source": [
        "for epoch in range(epochs):\n",
        "  total_loss=0\n",
        "\n",
        "  for batch_x, batch_y in dataloader:\n",
        "    batch_x, batch_y= batch_x.to(device),batch_y.to(device)\n",
        "    optimizer.zero_grad()\n",
        "    output= model(batch_x)\n",
        "    loss= criterion(output, batch_y)\n",
        "    loss.backward()\n",
        "    optimizer.step()\n",
        "    total_loss= total_loss + loss.item()\n",
        "  print(f'Epoch: {epoch +1}, Loss: {total_loss:4f}')\n",
        "\n"
      ],
      "metadata": {
        "colab": {
          "base_uri": "https://localhost:8080/"
        },
        "id": "XSNKhc1TwlvA",
        "outputId": "b1109eb6-a9fb-4be5-dc42-13c873fd10a2"
      },
      "execution_count": 59,
      "outputs": [
        {
          "output_type": "stream",
          "name": "stdout",
          "text": [
            "Epoch: 1, Loss: 165.796672\n",
            "Epoch: 2, Loss: 147.707308\n",
            "Epoch: 3, Loss: 135.492109\n",
            "Epoch: 4, Loss: 124.352314\n",
            "Epoch: 5, Loss: 111.387122\n",
            "Epoch: 6, Loss: 99.907244\n",
            "Epoch: 7, Loss: 89.280517\n",
            "Epoch: 8, Loss: 79.499919\n",
            "Epoch: 9, Loss: 70.263103\n",
            "Epoch: 10, Loss: 61.969987\n",
            "Epoch: 11, Loss: 54.756685\n",
            "Epoch: 12, Loss: 48.038372\n",
            "Epoch: 13, Loss: 42.058756\n",
            "Epoch: 14, Loss: 37.155151\n",
            "Epoch: 15, Loss: 32.619895\n",
            "Epoch: 16, Loss: 28.573817\n",
            "Epoch: 17, Loss: 25.134753\n",
            "Epoch: 18, Loss: 22.259275\n",
            "Epoch: 19, Loss: 19.703868\n",
            "Epoch: 20, Loss: 17.975341\n",
            "Epoch: 21, Loss: 15.786987\n",
            "Epoch: 22, Loss: 14.335154\n",
            "Epoch: 23, Loss: 13.148153\n",
            "Epoch: 24, Loss: 11.995826\n",
            "Epoch: 25, Loss: 11.002369\n",
            "Epoch: 26, Loss: 10.192785\n",
            "Epoch: 27, Loss: 9.408731\n",
            "Epoch: 28, Loss: 8.794346\n",
            "Epoch: 29, Loss: 8.281206\n",
            "Epoch: 30, Loss: 7.989458\n",
            "Epoch: 31, Loss: 7.537118\n",
            "Epoch: 32, Loss: 7.081563\n",
            "Epoch: 33, Loss: 6.752410\n",
            "Epoch: 34, Loss: 6.431838\n",
            "Epoch: 35, Loss: 6.297156\n",
            "Epoch: 36, Loss: 5.974896\n",
            "Epoch: 37, Loss: 5.910758\n",
            "Epoch: 38, Loss: 5.632684\n",
            "Epoch: 39, Loss: 5.777943\n",
            "Epoch: 40, Loss: 5.457344\n",
            "Epoch: 41, Loss: 5.183030\n",
            "Epoch: 42, Loss: 5.053338\n",
            "Epoch: 43, Loss: 4.940194\n",
            "Epoch: 44, Loss: 4.913750\n",
            "Epoch: 45, Loss: 4.750418\n",
            "Epoch: 46, Loss: 4.705664\n",
            "Epoch: 47, Loss: 4.625132\n",
            "Epoch: 48, Loss: 4.505969\n",
            "Epoch: 49, Loss: 4.519277\n",
            "Epoch: 50, Loss: 4.460944\n"
          ]
        }
      ]
    },
    {
      "cell_type": "code",
      "source": [
        "def prediction(model, vocab,text):\n",
        "  tokenized_text= word_tokenize(text.lower())\n",
        "\n",
        "  numerical_text= text_to_indices(tokenized_text, vocab)\n",
        "\n",
        "  padded_text= torch.tensor([0]*(61- len(numerical_text))+ numerical_text, dtype= torch.long). unsqueeze(0)\n",
        "\n",
        "  output= model(padded_text)\n",
        "\n",
        "  value, index=torch.max(output, dim=1)\n",
        "\n",
        "  return text + \" \" + list(vocab.keys())[index]\n",
        "\n"
      ],
      "metadata": {
        "id": "HnCr32qqyP2t"
      },
      "execution_count": 62,
      "outputs": []
    },
    {
      "cell_type": "code",
      "source": [
        "prediction(model,vocab, \"The course follows a monthly\")"
      ],
      "metadata": {
        "colab": {
          "base_uri": "https://localhost:8080/",
          "height": 35
        },
        "id": "AEU7H7TEzxWB",
        "outputId": "46fce1e7-e2aa-4f69-b003-0f0f5752b9e0"
      },
      "execution_count": 64,
      "outputs": [
        {
          "output_type": "execute_result",
          "data": {
            "text/plain": [
              "'The course follows a monthly subscription'"
            ],
            "application/vnd.google.colaboratory.intrinsic+json": {
              "type": "string"
            }
          },
          "metadata": {},
          "execution_count": 64
        }
      ]
    },
    {
      "cell_type": "code",
      "source": [
        "import time\n",
        "num_token= 10\n",
        "input_text= \"The course follows a monthly\"\n",
        "\n",
        "for i in range(num_token):\n",
        "  output_text= prediction(model, vocab, input_text)\n",
        "  print(output_text)\n",
        "  input_text= output_text\n",
        "  time.sleep(0.5)"
      ],
      "metadata": {
        "colab": {
          "base_uri": "https://localhost:8080/"
        },
        "id": "5To1MtKo12GB",
        "outputId": "e3dcacc2-36b5-4ce2-c34a-f20df53cfc0d"
      },
      "execution_count": 66,
      "outputs": [
        {
          "output_type": "stream",
          "name": "stdout",
          "text": [
            "The course follows a monthly subscription\n",
            "The course follows a monthly subscription model\n",
            "The course follows a monthly subscription model where\n",
            "The course follows a monthly subscription model where you\n",
            "The course follows a monthly subscription model where you have\n",
            "The course follows a monthly subscription model where you have to\n",
            "The course follows a monthly subscription model where you have to make\n",
            "The course follows a monthly subscription model where you have to make monthly\n",
            "The course follows a monthly subscription model where you have to make monthly payments\n",
            "The course follows a monthly subscription model where you have to make monthly payments of\n"
          ]
        }
      ]
    }
  ]
}